{
 "cells": [
  {
   "cell_type": "markdown",
   "metadata": {},
   "source": [
    "### Василевская Вероника. Поток DAPR-180"
   ]
  },
  {
   "cell_type": "markdown",
   "metadata": {},
   "source": [
    "## PROJECT 4: Исследование данных и подготовка рекомендательной системы для увеличения среднего чека для онлайн школы MasterMind.\n",
    "\n",
    "### ЦЕЛЬ: \n",
    "\n",
    " - Получить рекомендательную систему, благодаря которой можно будет предлагать клиентам интересные им курсы и тем самым повышать средний чек. \n",
    " - Для изначального воплощения этой системы нужно составить таблицу, в которой курсам будет соответствовать по две рекомендации.\n"
   ]
  },
  {
   "cell_type": "markdown",
   "metadata": {},
   "source": [
    "### Исходные данные: \n",
    "\n",
    " ##### Таблица 'carts' — содержит данные о пользовательских корзинах:\n",
    "\n",
    "Promo Code ID — ID промокода, если он есть  \n",
    "Purchased At — дата оплаты  \n",
    "User ID — ID пользователя  \n",
    "Created At — дата создания корзины  \n",
    "Updated At — дата последнего обновления информации  \n",
    "ID — идентификатор корзины  \n",
    "State — состояние оплаты  \n",
    "\n",
    "##### Таблица 'cart items' — содержит данные о курсах, которые пользователи добавили в корзину\n",
    "\n",
    "Created At — дата создания события  \n",
    "Resource Type — тип продукта  \n",
    "Resource ID — ID курса  \n",
    "Cart ID — идентификатор корзины  \n",
    "Updated At — дата последнего обновления информации  \n",
    "ID — идентификатор операции"
   ]
  },
  {
   "cell_type": "markdown",
   "metadata": {},
   "source": [
    "#### Для построения рекомендательной системы полезно знать, какие курсы чаще всего покупают вместе с конкретным курсом (необязательно в рамках одной корзины)."
   ]
  },
  {
   "cell_type": "markdown",
   "metadata": {},
   "source": [
    "Для этого необходимо обработать данные, чтобы понять каковы были продажи курсов в разрезе пользователей.  \n",
    "Для этого выясним:"
   ]
  },
  {
   "cell_type": "markdown",
   "metadata": {},
   "source": [
    "\n",
    "1. Какое количество курсов есть у школы.\n",
    "\n",
    "Для этого используем следующий SQL код:<br>\n",
    "\n",
    "<blockquote><span style=\"color: blue;\"> SELECT COUNT (DISTINCT resource_id) AS total_courses</span> <small><span style=\"color: grey;\">-- количество уникальных id курсов добавленных в корзину</span></small></blockquote>  \n",
    "<blockquote style=\"color: blue;\">FROM final.cart_items AS course_id</blockquote>  \n",
    "<blockquote><span style=\"color: blue;\">JOIN final.carts ON items.cart_id = carts.id</span> <small><span style=\"color: grey;\"> -- объединяем таблицы с данными по ключу 'id'</span></small></blockquote>  \n",
    "<blockquote><span style=\"color: blue;\">WHERE resource_type = 'Course';</span> <small><span style=\"color: grey;\">--отфильтровываем только курсы по типу продукта</span></small></blockquote>  \n",
    "\n",
    "Всего получается 127 уникальных курсов\n"
   ]
  },
  {
   "cell_type": "markdown",
   "metadata": {},
   "source": [
    "2. Составим таблицу, содержащую данные сколько клиентов купили больше одного курса и какие именно курсы они купили.  \n",
    "\n",
    "Для этого используем следующий SQL код:<br>"
   ]
  },
  {
   "cell_type": "markdown",
   "metadata": {},
   "source": [
    "<blockquote style=\"color: grey;\"><small>-- Шаг 1: Создание временной таблицы sum_courses</small></blockquote>  \n",
    "<blockquote style=\"color: blue;\">WITH sum_courses AS (</blockquote>  \n",
    "    <blockquote style=\"margin-left: 20px; color: blue;\">SELECT</blockquote>  \n",
    "        <blockquote style=\"margin-left: 40px; color: blue;\">user_id,</blockquote>  \n",
    "        <blockquote style=\"margin-left: 40px; color: blue;\">COUNT(resource_id) AS total_courses <small><span style=\"color: grey;\"> -- количество уникальных id курсов добавленных в корзину</span></small></blockquote>  \n",
    "    <blockquote style=\"margin-left: 20px; color: blue;\">FROM</blockquote>\n",
    "        <blockquote style=\"margin-left: 40px; color: blue;\">final.cart_items AS items</blockquote> \n",
    "        <blockquote style=\"margin-left: 40px; color: blue;\">JOIN final.carts ON items.cart_id = carts.id</span> <small><span style=\"color: grey;\"> -- объединяем таблицы с исходными данными по ключу 'id'</span></small></blockquote> \n",
    "    <blockquote style=\"margin-left: 20px; color: blue;\">WHERE</blockquote>\n",
    "        <blockquote style=\"margin-left: 40px; color: blue;\">resource_type = 'Course'</span> <small><span style=\"color: grey;\">--отфильтровываем только курсы по типу продукта</span></small></blockquote>\n",
    "        <blockquote style=\"margin-left: 40px; color: blue;\">AND state = 'successful'</span> <small><span style=\"color: grey;\">--отфильтровываем только оплаченные курсы</span></small></blockquote>\n",
    "    <blockquote style=\"margin-left: 20px; color: blue;\">GROUP BY 1</blockquote> \n",
    "    <blockquote style=\"margin-left: 20px; color: blue;\">HAVING COUNT(DISTINCT resource_id) > 1</span> <small><span style=\"color: grey;\">-- отфильтровываем пользователей, которые купили более чем один уникальный курс</span></small></blockquote> \n",
    "<blockquote style=\"color: blue;\">)</blockquote>\n",
    "\n",
    "<blockquote style=\"color: grey;\"><small>-- Шаг 2: Получение таблицы c id пользователей, которые купили больше одного курса и списком id курсов, которые они купили</small></blockquote>\n",
    "<blockquote style=\"color: blue;\">SELECT</blockquote>\n",
    "    <blockquote style=\"margin-left: 20px; color: blue;\">sum_courses.user_id AS user_id,<small><span style=\"color: grey;\"> -- id пользователей, купивших более одного курса</span></small></blockquote>\n",
    "    <blockquote style=\"margin-left: 20px; color: blue;\">items.resource_id AS resource_id<small><span style=\"color: grey;\"> -- id курсов</span></small></blockquote>\n",
    "<blockquote style=\"color: blue;\">FROM</blockquote>\n",
    "    <blockquote style=\"margin-left: 20px; color: blue;\">sum_courses</blockquote>\n",
    "    <blockquote style=\"margin-left: 20px; color: blue;\">JOIN final.carts ON sum_courses.user_id = carts.user_id</span> <small><span style=\"color: grey;\"> -- объединяем временную таблицу sum_courses с таблицей 'carts' по ключу 'id'</span></small></blockquote>\n",
    "    <blockquote style=\"margin-left: 20px; color: blue;\">JOIN final.cart_items AS items ON items.cart_id = carts.id</span> <small><span style=\"color: grey;\"> -- объединяем таблицы с исходными данными по ключу 'id'</span></small></blockquote>\n",
    "<blockquote style=\"color: blue;\">WHERE</blockquote>\n",
    "    <blockquote style=\"margin-left: 20px; color: blue;\">state = 'successful'</span> <small><span style=\"color: grey;\">--отфильтровываем только оплаченные курсы</span></small></blockquote>\n",
    "    <blockquote style=\"margin-left: 20px; color: blue;\">AND resource_type = 'Course'</span> <small><span style=\"color: grey;\">--отфильтровываем только курсы по типу продукта</span></small></blockquote>\n",
    "<blockquote style=\"color: blue;\">ORDER BY 1, 2;</span> <small><span style=\"color: grey;\"> -- Сортировка результатов по user_id и resource_id</span></small></blockquote><br>  \n",
    "Результатом запроса будет таблица 'project4.csv'."
   ]
  },
  {
   "cell_type": "markdown",
   "metadata": {},
   "source": [
    "#### Далее из полученного файла выясним сколько различных пар курсов встречаются вместе у клиентов в покупках и какая пара курсов самя популярная."
   ]
  },
  {
   "cell_type": "code",
   "execution_count": 1,
   "metadata": {},
   "outputs": [],
   "source": [
    "import pandas as pd\n",
    "import itertools\n",
    "from itertools import combinations\n",
    "import numpy as np"
   ]
  },
  {
   "cell_type": "code",
   "execution_count": 2,
   "metadata": {},
   "outputs": [
    {
     "name": "stdout",
     "output_type": "stream",
     "text": [
      "<class 'pandas.core.frame.DataFrame'>\n",
      "RangeIndex: 34172 entries, 0 to 34171\n",
      "Data columns (total 2 columns):\n",
      " #   Column       Non-Null Count  Dtype\n",
      "---  ------       --------------  -----\n",
      " 0   user_id      34172 non-null  int64\n",
      " 1   resource_id  34172 non-null  int64\n",
      "dtypes: int64(2)\n",
      "memory usage: 534.1 KB\n",
      "   user_id  resource_id\n",
      "0       51          516\n",
      "1       51         1099\n",
      "2     6117          356\n",
      "3     6117          357\n",
      "4     6117         1125 None\n"
     ]
    }
   ],
   "source": [
    "df = pd.read_csv(r'project4.csv')\n",
    "print(df.head(), df.info())"
   ]
  },
  {
   "cell_type": "markdown",
   "metadata": {},
   "source": [
    "#### Рассчет количества разных пар курсов, которые встречаются вместе"
   ]
  },
  {
   "cell_type": "code",
   "execution_count": 3,
   "metadata": {},
   "outputs": [
    {
     "data": {
      "text/plain": [
       "'Количество уникальных пар курсов: 3989'"
      ]
     },
     "metadata": {},
     "output_type": "display_data"
    }
   ],
   "source": [
    "# сформируем множество уникальных значений 'resource_id' для каждого пользователя. \n",
    "df_pair_count = df.groupby('user_id')['resource_id'].agg( # сгруппируем данные по столбцу 'user_id'\n",
    "        ['nunique', set]\n",
    ").sort_values(by='nunique', ascending=False) \n",
    "\n",
    "# формируем пары курсов для каждого пользьзователя\n",
    "courses_pairs= df_pair_count['set'].apply(lambda x: list(itertools.combinations(sorted(x), 2)))\n",
    "# создадим список пар курсов, для чего объединяем получившиеся пары курсов\n",
    "courses_pair_list = []\n",
    "for course in courses_pairs.values:\n",
    "    for elem in course: \n",
    "        courses_pair_list.append(elem) \n",
    "        \n",
    "# считаем количество уникальных пар\n",
    "result = len(set(courses_pair_list))\n",
    "display(\"Количество уникальных пар курсов: {}\".format(result))"
   ]
  },
  {
   "cell_type": "markdown",
   "metadata": {},
   "source": [
    "#### Выясним какая пара курсов самая популярная"
   ]
  },
  {
   "cell_type": "code",
   "execution_count": 4,
   "metadata": {},
   "outputs": [
    {
     "name": "stdout",
     "output_type": "stream",
     "text": [
      "<class 'pandas.core.frame.DataFrame'>\n",
      "RangeIndex: 3989 entries, 0 to 3988\n",
      "Data columns (total 2 columns):\n",
      " #   Column  Non-Null Count  Dtype \n",
      "---  ------  --------------  ----- \n",
      " 0   pair    3989 non-null   object\n",
      " 1   count   3989 non-null   int64 \n",
      "dtypes: int64(1), object(1)\n",
      "memory usage: 62.5+ KB\n"
     ]
    },
    {
     "data": {
      "text/html": [
       "<div>\n",
       "<style scoped>\n",
       "    .dataframe tbody tr th:only-of-type {\n",
       "        vertical-align: middle;\n",
       "    }\n",
       "\n",
       "    .dataframe tbody tr th {\n",
       "        vertical-align: top;\n",
       "    }\n",
       "\n",
       "    .dataframe thead th {\n",
       "        text-align: right;\n",
       "    }\n",
       "</style>\n",
       "<table border=\"1\" class=\"dataframe\">\n",
       "  <thead>\n",
       "    <tr style=\"text-align: right;\">\n",
       "      <th></th>\n",
       "      <th>pair</th>\n",
       "      <th>count</th>\n",
       "    </tr>\n",
       "  </thead>\n",
       "  <tbody>\n",
       "    <tr>\n",
       "      <th>0</th>\n",
       "      <td>551,566</td>\n",
       "      <td>797</td>\n",
       "    </tr>\n",
       "    <tr>\n",
       "      <th>1</th>\n",
       "      <td>515,551</td>\n",
       "      <td>417</td>\n",
       "    </tr>\n",
       "    <tr>\n",
       "      <th>2</th>\n",
       "      <td>489,551</td>\n",
       "      <td>311</td>\n",
       "    </tr>\n",
       "    <tr>\n",
       "      <th>3</th>\n",
       "      <td>523,551</td>\n",
       "      <td>304</td>\n",
       "    </tr>\n",
       "    <tr>\n",
       "      <th>4</th>\n",
       "      <td>566,794</td>\n",
       "      <td>290</td>\n",
       "    </tr>\n",
       "    <tr>\n",
       "      <th>...</th>\n",
       "      <td>...</td>\n",
       "      <td>...</td>\n",
       "    </tr>\n",
       "    <tr>\n",
       "      <th>3984</th>\n",
       "      <td>571,866</td>\n",
       "      <td>1</td>\n",
       "    </tr>\n",
       "    <tr>\n",
       "      <th>3985</th>\n",
       "      <td>368,679</td>\n",
       "      <td>1</td>\n",
       "    </tr>\n",
       "    <tr>\n",
       "      <th>3986</th>\n",
       "      <td>835,1102</td>\n",
       "      <td>1</td>\n",
       "    </tr>\n",
       "    <tr>\n",
       "      <th>3987</th>\n",
       "      <td>809,1125</td>\n",
       "      <td>1</td>\n",
       "    </tr>\n",
       "    <tr>\n",
       "      <th>3988</th>\n",
       "      <td>358,1103</td>\n",
       "      <td>1</td>\n",
       "    </tr>\n",
       "  </tbody>\n",
       "</table>\n",
       "<p>3989 rows × 2 columns</p>\n",
       "</div>"
      ],
      "text/plain": [
       "          pair  count\n",
       "0      551,566    797\n",
       "1      515,551    417\n",
       "2      489,551    311\n",
       "3      523,551    304\n",
       "4      566,794    290\n",
       "...        ...    ...\n",
       "3984   571,866      1\n",
       "3985   368,679      1\n",
       "3986  835,1102      1\n",
       "3987  809,1125      1\n",
       "3988  358,1103      1\n",
       "\n",
       "[3989 rows x 2 columns]"
      ]
     },
     "metadata": {},
     "output_type": "display_data"
    },
    {
     "data": {
      "text/plain": [
       "None"
      ]
     },
     "metadata": {},
     "output_type": "display_data"
    },
    {
     "data": {
      "text/plain": [
       "'Самая популярная пара курсов: 551,566'"
      ]
     },
     "metadata": {},
     "output_type": "display_data"
    }
   ],
   "source": [
    "# Создадим DataFrame на основе списков пар курсов\n",
    "pairs_count=pd.DataFrame(courses_pair_list)\n",
    "# display(pairs_count.info(), pairs_count.head())\n",
    "# Преобразуем значения в столбцах 0 и 1 к строковому типу данных\n",
    "pairs_count[0]=pairs_count[0].astype(str)\n",
    "pairs_count[1]=pairs_count[1].astype(str)\n",
    "# Создадим новый столбец 'pair', в котором значения формируются путем объединения строк из столбцов 0 и 1\n",
    "pairs_count['pair']=pairs_count[[0, 1]].agg(','. join, axis=1)\n",
    "# Создадим новый DataFrame который содержит уникальные комбинации курсов и их частоту.\n",
    "result_pairs_count = pairs_count['pair'].value_counts().reset_index()\n",
    "result_pairs_count.columns = ['pair', 'count']\n",
    "\n",
    "# Вывод датафрейма\n",
    "display(result_pairs_count, result_pairs_count.info())\n",
    "display(\"Самая популярная пара курсов: {}\".format(result_pairs_count.at[0, 'pair']))"
   ]
  },
  {
   "cell_type": "markdown",
   "metadata": {},
   "source": [
    "#### Судя по полученной таблице, есть пары курсов которые встречаются редко. Необходимо проверить не являються ли эти данные выбросами, чтобы избежать искажения анализа.<Br>\n",
    "\n",
    "#### Для проверки данных на выбросы посчитаем квартили: первый квартиль Q1 и третий квартиль Q3."
   ]
  },
  {
   "cell_type": "code",
   "execution_count": 5,
   "metadata": {},
   "outputs": [
    {
     "data": {
      "text/html": [
       "<div>\n",
       "<style scoped>\n",
       "    .dataframe tbody tr th:only-of-type {\n",
       "        vertical-align: middle;\n",
       "    }\n",
       "\n",
       "    .dataframe tbody tr th {\n",
       "        vertical-align: top;\n",
       "    }\n",
       "\n",
       "    .dataframe thead th {\n",
       "        text-align: right;\n",
       "    }\n",
       "</style>\n",
       "<table border=\"1\" class=\"dataframe\">\n",
       "  <thead>\n",
       "    <tr style=\"text-align: right;\">\n",
       "      <th></th>\n",
       "      <th>resource_id</th>\n",
       "      <th>resource_id_count</th>\n",
       "    </tr>\n",
       "  </thead>\n",
       "  <tbody>\n",
       "    <tr>\n",
       "      <th>0</th>\n",
       "      <td>551</td>\n",
       "      <td>2938</td>\n",
       "    </tr>\n",
       "    <tr>\n",
       "      <th>1</th>\n",
       "      <td>566</td>\n",
       "      <td>2345</td>\n",
       "    </tr>\n",
       "    <tr>\n",
       "      <th>2</th>\n",
       "      <td>515</td>\n",
       "      <td>1314</td>\n",
       "    </tr>\n",
       "    <tr>\n",
       "      <th>3</th>\n",
       "      <td>489</td>\n",
       "      <td>1128</td>\n",
       "    </tr>\n",
       "    <tr>\n",
       "      <th>4</th>\n",
       "      <td>490</td>\n",
       "      <td>1088</td>\n",
       "    </tr>\n",
       "    <tr>\n",
       "      <th>...</th>\n",
       "      <td>...</td>\n",
       "      <td>...</td>\n",
       "    </tr>\n",
       "    <tr>\n",
       "      <th>121</th>\n",
       "      <td>902</td>\n",
       "      <td>3</td>\n",
       "    </tr>\n",
       "    <tr>\n",
       "      <th>122</th>\n",
       "      <td>833</td>\n",
       "      <td>3</td>\n",
       "    </tr>\n",
       "    <tr>\n",
       "      <th>123</th>\n",
       "      <td>1199</td>\n",
       "      <td>2</td>\n",
       "    </tr>\n",
       "    <tr>\n",
       "      <th>124</th>\n",
       "      <td>1201</td>\n",
       "      <td>2</td>\n",
       "    </tr>\n",
       "    <tr>\n",
       "      <th>125</th>\n",
       "      <td>1200</td>\n",
       "      <td>2</td>\n",
       "    </tr>\n",
       "  </tbody>\n",
       "</table>\n",
       "<p>126 rows × 2 columns</p>\n",
       "</div>"
      ],
      "text/plain": [
       "     resource_id  resource_id_count\n",
       "0            551               2938\n",
       "1            566               2345\n",
       "2            515               1314\n",
       "3            489               1128\n",
       "4            490               1088\n",
       "..           ...                ...\n",
       "121          902                  3\n",
       "122          833                  3\n",
       "123         1199                  2\n",
       "124         1201                  2\n",
       "125         1200                  2\n",
       "\n",
       "[126 rows x 2 columns]"
      ]
     },
     "metadata": {},
     "output_type": "display_data"
    },
    {
     "data": {
      "text/plain": [
       "'Q1: 58.0'"
      ]
     },
     "metadata": {},
     "output_type": "display_data"
    },
    {
     "data": {
      "text/plain": [
       "'Q3: 350.0'"
      ]
     },
     "metadata": {},
     "output_type": "display_data"
    },
    {
     "data": {
      "text/plain": [
       "'Выбросы:-380.0'"
      ]
     },
     "metadata": {},
     "output_type": "display_data"
    }
   ],
   "source": [
    "# Рассчитаем количество покупок различных курсов\n",
    "courses_count = df['resource_id'].value_counts().reset_index()\n",
    "courses_count.columns = ['resource_id', 'resource_id_count']\n",
    "display(courses_count)\n",
    "# Рассчитаем Q1\n",
    "Q1 = courses_count['resource_id_count'].quantile(0.25).round()\n",
    "# Рассчитаем Q3\n",
    "Q3 = courses_count['resource_id_count'].quantile(0.75).round()\n",
    "# Рассчитаем интерквартильный размах, который характеризует меру разброса значений внутри выборки\n",
    "IQR = Q3-Q1\n",
    "# Поскольку нас интересует проверка только самых редко встречаемых курсов,то рассчитаем только нижнюю границу\n",
    "low_border = Q1 - 1.5*IQR\n",
    "display(\"Q1: {}\".format(Q1))\n",
    "display(\"Q3: {}\".format(Q3))\n",
    "display(\"Выбросы:{}\".format(low_border))"
   ]
  },
  {
   "cell_type": "markdown",
   "metadata": {},
   "source": [
    "#### В данном случае значение выброса получилось отрицательным, следовательно можно предположить, что выбросов в расмматриваемых данных нет.  \n",
    "#### В данном случае будет логично принять за нижнюю границу значение первого квартиля (Q1), что позволит отбросить данные с низкой частотой и сосредоточиться на наиболее часто встречаемых парах курсов."
   ]
  },
  {
   "cell_type": "markdown",
   "metadata": {},
   "source": [
    "### C  учетом исследования данных можно составить рекомендательную таблицу. \n"
   ]
  },
  {
   "cell_type": "code",
   "execution_count": 14,
   "metadata": {},
   "outputs": [
    {
     "name": "stdout",
     "output_type": "stream",
     "text": [
      "{'551': ['566', '515'], '566': ['551', '794'], '515': ['551', '489'], '489': ['551', '515'], '523': ['551', '515'], '794': ['566', '551'], '490': ['566', '551'], '570': ['752', '507'], '752': ['570', '507'], '569': ['572', '840'], '572': ['569', '504'], '553': ['745', '516'], '745': ['553', '516'], '840': ['569', '572'], '514': ['551', '515'], '516': ['745', '553'], '504': ['572', '569'], '552': ['551', '523'], '507': ['570', '752'], '809': ['490', '570'], '502': ['551', '566'], '571': ['1125', '357'], '1125': ['571', '912'], '357': ['571', '356'], '564': ['523', '551'], '749': ['551', '515'], '777': ['551', '523'], '679': ['551', '489'], '356': ['571', '357'], '568': ['745', '553'], '363': ['511', '562'], '511': ['363', '562'], '764': ['566', '551'], '519': ['551', '523'], '765': ['571', '1125'], '562': ['363', '511'], '1103': ['551', '566'], '912': ['571', '1125'], '1115': ['570', '752'], '1139': ['745', '553'], '743': ['490', '757'], '1161': ['840', '569'], '750': ['551', '566'], '366': ['551', '515'], '508': ['507', '570'], '503': ['551', '513'], '509': ['745', '553'], '664': ['551', '503'], '513': ['503', '551'], '563': ['562', '363'], '1099': ['568', '745'], '517': ['551', '750'], '741': ['551', '566'], '776': ['551', '566'], '659': ['551', '566'], '361': ['551', '1138'], '757': ['566', '490'], '367': ['551', '515'], '753': ['750', '551'], '1138': ['361', '672'], '1140': ['503', '664'], '1100': ['551', '908'], '518': ['551', '490'], '908': ['1100', '809'], '672': ['551', '745'], '1102': ['1100', '1103'], '742': ['1141', '503'], '1141': ['742', '513'], '791': ['551', '566'], '829': ['551', '566'], '755': ['570', '752'], '1187': ['745', '553'], '756': ['566', '551'], '1145': ['840', '569'], '368': ['572', '569'], '1184': ['752', '570'], '1144': ['571', '1125'], '1186': ['1125', '571'], '1147': ['745', '553'], '1152': ['551', '490'], '814': ['564', '551'], '358': ['570', '752'], '909': ['523', '566'], '1101': ['1100', '552'], '1104': ['752', '809'], '1181': ['752', '570'], '907': ['1103', '523'], '1185': ['503', '1140'], '813': ['672', '361'], '671': ['659', '750'], '1116': ['564', '809'], '362': ['363', '562'], '360': ['745', '516'], '1146': ['745', '516'], '744': ['566', '551'], '359': ['570', '358'], '670': ['490', '566'], '1188': ['1141', '513'], '1124': ['1128', '908'], '1128': ['1124', '514'], '810': ['551', '566'], '864': ['551', '523'], '1129': ['1100', '679'], '863': ['908', '1100'], '800': ['571', '1125'], '862': ['551', '552'], '1156': ['566', '551'], '865': ['829', '1103'], '835': ['745', '509'], '803': ['571', '523'], '364': ['551', '503'], '837': ['569', '504'], '1160': ['562', '563'], '1198': ['571', '551'], '365': ['551', '1141'], '830': ['566', '814'], '834': ['566', '1116'], '836': ['742', '1141'], '1199': ['523', '515'], '866': ['865', '1104'], '833': ['570', '507'], '911': ['514', '908'], '1201': ['571', '1144'], '902': ['742', '777'], '1182': ['1187', '553'], '1200': ['794', '1104']}\n"
     ]
    },
    {
     "data": {
      "text/html": [
       "<div>\n",
       "<style scoped>\n",
       "    .dataframe tbody tr th:only-of-type {\n",
       "        vertical-align: middle;\n",
       "    }\n",
       "\n",
       "    .dataframe tbody tr th {\n",
       "        vertical-align: top;\n",
       "    }\n",
       "\n",
       "    .dataframe thead th {\n",
       "        text-align: right;\n",
       "    }\n",
       "</style>\n",
       "<table border=\"1\" class=\"dataframe\">\n",
       "  <thead>\n",
       "    <tr style=\"text-align: right;\">\n",
       "      <th></th>\n",
       "      <th>main_course</th>\n",
       "      <th>recommendation_1</th>\n",
       "      <th>recommendation_2</th>\n",
       "    </tr>\n",
       "  </thead>\n",
       "  <tbody>\n",
       "    <tr>\n",
       "      <th>0</th>\n",
       "      <td>551</td>\n",
       "      <td>566</td>\n",
       "      <td>515</td>\n",
       "    </tr>\n",
       "    <tr>\n",
       "      <th>1</th>\n",
       "      <td>566</td>\n",
       "      <td>551</td>\n",
       "      <td>794</td>\n",
       "    </tr>\n",
       "    <tr>\n",
       "      <th>2</th>\n",
       "      <td>515</td>\n",
       "      <td>551</td>\n",
       "      <td>489</td>\n",
       "    </tr>\n",
       "    <tr>\n",
       "      <th>3</th>\n",
       "      <td>489</td>\n",
       "      <td>551</td>\n",
       "      <td>515</td>\n",
       "    </tr>\n",
       "    <tr>\n",
       "      <th>4</th>\n",
       "      <td>523</td>\n",
       "      <td>551</td>\n",
       "      <td>515</td>\n",
       "    </tr>\n",
       "    <tr>\n",
       "      <th>...</th>\n",
       "      <td>...</td>\n",
       "      <td>...</td>\n",
       "      <td>...</td>\n",
       "    </tr>\n",
       "    <tr>\n",
       "      <th>121</th>\n",
       "      <td>911</td>\n",
       "      <td>514</td>\n",
       "      <td>908</td>\n",
       "    </tr>\n",
       "    <tr>\n",
       "      <th>122</th>\n",
       "      <td>1201</td>\n",
       "      <td>571</td>\n",
       "      <td>1144</td>\n",
       "    </tr>\n",
       "    <tr>\n",
       "      <th>123</th>\n",
       "      <td>902</td>\n",
       "      <td>742</td>\n",
       "      <td>777</td>\n",
       "    </tr>\n",
       "    <tr>\n",
       "      <th>124</th>\n",
       "      <td>1182</td>\n",
       "      <td>1187</td>\n",
       "      <td>553</td>\n",
       "    </tr>\n",
       "    <tr>\n",
       "      <th>125</th>\n",
       "      <td>1200</td>\n",
       "      <td>794</td>\n",
       "      <td>1104</td>\n",
       "    </tr>\n",
       "  </tbody>\n",
       "</table>\n",
       "<p>126 rows × 3 columns</p>\n",
       "</div>"
      ],
      "text/plain": [
       "    main_course recommendation_1 recommendation_2\n",
       "0           551              566              515\n",
       "1           566              551              794\n",
       "2           515              551              489\n",
       "3           489              551              515\n",
       "4           523              551              515\n",
       "..          ...              ...              ...\n",
       "121         911              514              908\n",
       "122        1201              571             1144\n",
       "123         902              742              777\n",
       "124        1182             1187              553\n",
       "125        1200              794             1104\n",
       "\n",
       "[126 rows x 3 columns]"
      ]
     },
     "metadata": {},
     "output_type": "display_data"
    }
   ],
   "source": [
    "# Преобразуем полученный датафрейм в словарь\n",
    "result_pairs_dict = result_pairs_count.set_index('pair')\n",
    "result_pairs_dict = result_pairs_dict['count'].to_dict()\n",
    "# Вывод словаря\n",
    "# display(result_pairs_dict)\n",
    "\n",
    "\n",
    "\n",
    "\n",
    "# Составим список уникальных id курсов, которые есть во всех подобранных парах\n",
    "lst_id = result_pairs_count['pair'].str.split(',').explode().unique()\n",
    "# Вывод списка уникальных id курсов\n",
    "# display(lst_id))\n",
    "res = {}\n",
    "for i in lst_id:\n",
    "    prom = []\n",
    "    for j, value in result_pairs_dict.items():\n",
    "        lst_prom = j.split(',')\n",
    "        if i in lst_prom:\n",
    "            lst_prom.remove(str(i))\n",
    "            prom.append((lst_prom[0], value))\n",
    "    prom_res = []\n",
    "    max_1 = max(prom, key=lambda x: x[1])\n",
    "    prom_res.append(max_1[0])\n",
    "    prom.remove(max_1)\n",
    "    max_2 = max(prom, key=lambda x: x[1])\n",
    "    prom_res.append(max_2[0])\n",
    "    \n",
    "    res[i] = prom_res\n",
    "\n",
    "\n",
    "print(res)\n",
    "\n",
    "\n",
    "\n",
    "\n",
    "# result_rec = {} # Создадим пустой словарь для хранения результатов\n",
    "# for i in lst_id: # Итерируем по элементам списка lst_id. i будет принимать значения из этого списка\n",
    "#     temp_pair_dict = [] # Создадим пустой список для временного хранения пар (id купленного курса, частота покупки)\n",
    "#     for j, value in result_pairs_dict.items(): # Итерируем по парам ключ-значение в словаре \n",
    "#         lst_temp_pair_dict = j.split(',') # Разделим строки j по запятой, чтобы создать список из двух значений\n",
    "#         if i in lst_temp_pair_dict: # Проверим, содержится ли текущее значение i в словаре\n",
    "#             lst_temp_pair_dict.remove(i)\n",
    "#             temp_pair_dict.append((lst_temp_pair_dict[0], value)) # Добавим список из двух значений в временный список\n",
    "#     pair_dict_res = [] # Создадим пустой список для временного хранения результатов текущего i\n",
    "#     max_1 = max(temp_pair_dict, key=lambda x: x[1]) # Найдем максимальный элемент в списке по второму элементу списка (частота покупок)\n",
    "#     if max_1[1] > Q1: # Проверим, превышает ли частота покупок максимального id значение Q1\n",
    "#         pair_dict_res.append(max_1[0]) # Если условие выполняется, добавим первый id в список\n",
    "#     else: \n",
    "#         pair_dict_res.append('551') # Если условие не выполняется, то заменяем текущее значение на id самого покупаемого курса '551'\n",
    "#     temp_pair_dict.remove(max_1) # Удалим отфильтрованный максимальный id из временного списка\n",
    "#     max_2 = max(temp_pair_dict, key=lambda x: x[1]) # Найдем новый максимальный id в временном списке\n",
    "#     if max_2[1] > Q1: # Проверим, превышает ли частота покупок нового максимального id значение Q1\n",
    "#         pair_dict_res.append(max_2[0]) # Если условие выполняется, добавим второй id в список\n",
    "#     else: \n",
    "#         pair_dict_res.append('566') # Если условие не выполняется, то заменяем текущее значение на id второго по покупаемости курса '566'\n",
    "    \n",
    "#         result_rec[i] = pair_dict_res\n",
    "\n",
    "# Преобразем словарь в DataFrame\n",
    "recommendations= pd.DataFrame(list(res.items()), columns=['main_course', 'recommendation_1_recommendation_2'])\n",
    "\n",
    "# Разделение 'recommendation_1_recommendation_2' на две колонки 'recommendation_1' и 'recommendation_2'\n",
    "recommendations[['recommendation_1', 'recommendation_2']] = pd.DataFrame(recommendations['recommendation_1_recommendation_2'].tolist(), index=recommendations.index)\n",
    "\n",
    "# Удаление ненужной колонки 'recommendation_1_recommendation_2'\n",
    "recommendations.drop('recommendation_1_recommendation_2', axis=1, inplace=True)\n",
    "\n",
    "# Вывод результирующего DataFrame\n",
    "display(recommendations)\n"
   ]
  },
  {
   "cell_type": "markdown",
   "metadata": {},
   "source": [
    "### Вывод по проекту:  \n",
    "\n",
    "#### В результате исследования данных, выяснили какие пары курсов покупались больше одного раза, определили количество покупок этих пар, выявили самые популярные курсы. В результате полученных данных, выяснили, что некоторые пары курсов продаются намного реже. Самой популярной парой курсов являются курсы с id 551 и 566.\n",
    "#### Для построения рекомендаций можно предположить, если заменить наименее покупаемые курсы на самые популярные, то это приведет к повышению среднего чека.\n",
    "#### Для опредения минимальной границы количества покупаемых курсов, посчитали первый квартиль для всех проданных курсов и проверили данные на выбросы. По результатам расчетов в представленных данных выбросов нет, поэтому значение первого квартиля принимаем за минимальную границу количества продаж курсов. \n",
    "#### Итоговая рекомендательная таблица построена таким образом, что к основному покупаемому курсу, предлагается еще 2 курса, которые могли бы подойти клиенту. Соответсвенно при ее построении все курсы, продажи которых были ниже значения нижней границы были заменены на курсы из самой поппулярной продаваемой пары. \n"
   ]
  }
 ],
 "metadata": {
  "kernelspec": {
   "display_name": "Python 3",
   "language": "python",
   "name": "python3"
  },
  "language_info": {
   "codemirror_mode": {
    "name": "ipython",
    "version": 3
   },
   "file_extension": ".py",
   "mimetype": "text/x-python",
   "name": "python",
   "nbconvert_exporter": "python",
   "pygments_lexer": "ipython3",
   "version": "3.10.5"
  }
 },
 "nbformat": 4,
 "nbformat_minor": 2
}
